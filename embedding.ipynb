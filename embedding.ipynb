{
  "nbformat": 4,
  "nbformat_minor": 0,
  "metadata": {
    "colab": {
      "name": "Untitled27.ipynb",
      "provenance": [],
      "authorship_tag": "ABX9TyP927SyN/Ght3VuwhMF0WF2",
      "include_colab_link": true
    },
    "kernelspec": {
      "name": "python3",
      "display_name": "Python 3"
    },
    "language_info": {
      "name": "python"
    }
  },
  "cells": [
    {
      "cell_type": "markdown",
      "metadata": {
        "id": "view-in-github",
        "colab_type": "text"
      },
      "source": [
        "<a href=\"https://colab.research.google.com/github/amitnissan/WordEmbeddings/blob/main/embedding.ipynb\" target=\"_parent\"><img src=\"https://colab.research.google.com/assets/colab-badge.svg\" alt=\"Open In Colab\"/></a>"
      ]
    },
    {
      "cell_type": "code",
      "execution_count": 5,
      "metadata": {
        "id": "zWbpfg9es14g"
      },
      "outputs": [],
      "source": [
        "import pandas as pd\n",
        "import numpy as np\n",
        "from gensim import downloader\n",
        "from typing import List, Tuple"
      ]
    },
    {
      "cell_type": "markdown",
      "source": [
        "## Utils\n"
      ],
      "metadata": {
        "id": "qo6Z-dEztdlN"
      }
    },
    {
      "cell_type": "code",
      "source": [
        "GLOVE_PATH = \"glove-twitter-200\"\n",
        "files_paths = {\"train\": \"data/train.tagged\", \"test\": \"data/test.untagged\", \"dev\": \"data/dev.tagged\"}"
      ],
      "metadata": {
        "id": "1-AWaAhIs68O"
      },
      "execution_count": 6,
      "outputs": []
    },
    {
      "cell_type": "markdown",
      "source": [
        "## Main"
      ],
      "metadata": {
        "id": "wMe8TYX9u2N4"
      }
    },
    {
      "cell_type": "code",
      "source": [
        "def read_train_dev_data(train: bool = True) -> Tuple[List[List[str]], List[List[str]]]:\n",
        "    file = open(files_paths['train'] if train else files_paths['dev'], \"r\")\n",
        "    sentences_words = list()\n",
        "    sentences_labels = list()\n",
        "\n",
        "    sentence_words = list()\n",
        "    sentence_labels = list()\n",
        "\n",
        "    for line in file:\n",
        "        word_label = line.split(\"\\t\")\n",
        "        if word_label == [\"\\n\"]:  # a sentence ended.\n",
        "            sentences_words.append(sentence_words)\n",
        "            sentences_labels.append(sentence_labels)\n",
        "            sentence_words = list()\n",
        "            sentence_labels = list()\n",
        "            continue\n",
        "        word = word_label[0]\n",
        "        label = word_label[1].rstrip()\n",
        "        label = 0 if label == 'O' else 1\n",
        "        sentence_words.append(word)\n",
        "        sentence_labels.append(label)\n",
        "    file.close()\n",
        "    return sentences_words, sentences_labels\n"
      ],
      "metadata": {
        "id": "O16EMfLQu_CA"
      },
      "execution_count": 7,
      "outputs": []
    },
    {
      "cell_type": "code",
      "source": [
        "train_data = read_train_dev_data(train=True)\n",
        "dev_data = read_train_dev_data(train=False)\n",
        "\n",
        "print(\"downloading glove\")\n",
        "\n",
        "glove = downloader.load(GLOVE_PATH)\n",
        "\n",
        "print(\"done downloading glove\")\n",
        "\n",
        "representation = []\n",
        "for word in dev_data[0][3]:\n",
        "    if word not in glove.key_to_index:\n",
        "        print(f\"{word} not an existing word in the model\")\n",
        "        continue\n",
        "    vec = glove[word]\n",
        "    representation.append(vec)\n",
        "\n",
        "# TODO DONT FORGET TO SWITCH '0' to 'O'!"
      ],
      "metadata": {
        "colab": {
          "base_uri": "https://localhost:8080/",
          "height": 356
        },
        "id": "6kvZakLUvAz9",
        "outputId": "e37a27f8-8844-4e26-f6f9-bad64e4cb493"
      },
      "execution_count": 9,
      "outputs": [
        {
          "output_type": "error",
          "ename": "FileNotFoundError",
          "evalue": "ignored",
          "traceback": [
            "\u001b[0;31m---------------------------------------------------------------------------\u001b[0m",
            "\u001b[0;31mFileNotFoundError\u001b[0m                         Traceback (most recent call last)",
            "\u001b[0;32m<ipython-input-9-c5f8a3a5862f>\u001b[0m in \u001b[0;36m<module>\u001b[0;34m()\u001b[0m\n\u001b[0;32m----> 1\u001b[0;31m \u001b[0mtrain_data\u001b[0m \u001b[0;34m=\u001b[0m \u001b[0mread_train_dev_data\u001b[0m\u001b[0;34m(\u001b[0m\u001b[0mtrain\u001b[0m\u001b[0;34m=\u001b[0m\u001b[0;32mTrue\u001b[0m\u001b[0;34m)\u001b[0m\u001b[0;34m\u001b[0m\u001b[0;34m\u001b[0m\u001b[0m\n\u001b[0m\u001b[1;32m      2\u001b[0m \u001b[0mdev_data\u001b[0m \u001b[0;34m=\u001b[0m \u001b[0mread_train_dev_data\u001b[0m\u001b[0;34m(\u001b[0m\u001b[0mtrain\u001b[0m\u001b[0;34m=\u001b[0m\u001b[0;32mFalse\u001b[0m\u001b[0;34m)\u001b[0m\u001b[0;34m\u001b[0m\u001b[0;34m\u001b[0m\u001b[0m\n\u001b[1;32m      3\u001b[0m \u001b[0;34m\u001b[0m\u001b[0m\n\u001b[1;32m      4\u001b[0m \u001b[0mprint\u001b[0m\u001b[0;34m(\u001b[0m\u001b[0;34m\"downloading glove\"\u001b[0m\u001b[0;34m)\u001b[0m\u001b[0;34m\u001b[0m\u001b[0;34m\u001b[0m\u001b[0m\n\u001b[1;32m      5\u001b[0m \u001b[0;34m\u001b[0m\u001b[0m\n",
            "\u001b[0;32m<ipython-input-7-70503aa56b66>\u001b[0m in \u001b[0;36mread_train_dev_data\u001b[0;34m(train)\u001b[0m\n\u001b[1;32m      1\u001b[0m \u001b[0;32mdef\u001b[0m \u001b[0mread_train_dev_data\u001b[0m\u001b[0;34m(\u001b[0m\u001b[0mtrain\u001b[0m\u001b[0;34m:\u001b[0m \u001b[0mbool\u001b[0m \u001b[0;34m=\u001b[0m \u001b[0;32mTrue\u001b[0m\u001b[0;34m)\u001b[0m \u001b[0;34m->\u001b[0m \u001b[0mTuple\u001b[0m\u001b[0;34m[\u001b[0m\u001b[0mList\u001b[0m\u001b[0;34m[\u001b[0m\u001b[0mList\u001b[0m\u001b[0;34m[\u001b[0m\u001b[0mstr\u001b[0m\u001b[0;34m]\u001b[0m\u001b[0;34m]\u001b[0m\u001b[0;34m,\u001b[0m \u001b[0mList\u001b[0m\u001b[0;34m[\u001b[0m\u001b[0mList\u001b[0m\u001b[0;34m[\u001b[0m\u001b[0mstr\u001b[0m\u001b[0;34m]\u001b[0m\u001b[0;34m]\u001b[0m\u001b[0;34m]\u001b[0m\u001b[0;34m:\u001b[0m\u001b[0;34m\u001b[0m\u001b[0;34m\u001b[0m\u001b[0m\n\u001b[0;32m----> 2\u001b[0;31m     \u001b[0mfile\u001b[0m \u001b[0;34m=\u001b[0m \u001b[0mopen\u001b[0m\u001b[0;34m(\u001b[0m\u001b[0mfiles_paths\u001b[0m\u001b[0;34m[\u001b[0m\u001b[0;34m'train'\u001b[0m\u001b[0;34m]\u001b[0m \u001b[0;32mif\u001b[0m \u001b[0mtrain\u001b[0m \u001b[0;32melse\u001b[0m \u001b[0mfiles_paths\u001b[0m\u001b[0;34m[\u001b[0m\u001b[0;34m'dev'\u001b[0m\u001b[0;34m]\u001b[0m\u001b[0;34m,\u001b[0m \u001b[0;34m\"r\"\u001b[0m\u001b[0;34m)\u001b[0m\u001b[0;34m\u001b[0m\u001b[0;34m\u001b[0m\u001b[0m\n\u001b[0m\u001b[1;32m      3\u001b[0m     \u001b[0msentences_words\u001b[0m \u001b[0;34m=\u001b[0m \u001b[0mlist\u001b[0m\u001b[0;34m(\u001b[0m\u001b[0;34m)\u001b[0m\u001b[0;34m\u001b[0m\u001b[0;34m\u001b[0m\u001b[0m\n\u001b[1;32m      4\u001b[0m     \u001b[0msentences_labels\u001b[0m \u001b[0;34m=\u001b[0m \u001b[0mlist\u001b[0m\u001b[0;34m(\u001b[0m\u001b[0;34m)\u001b[0m\u001b[0;34m\u001b[0m\u001b[0;34m\u001b[0m\u001b[0m\n\u001b[1;32m      5\u001b[0m \u001b[0;34m\u001b[0m\u001b[0m\n",
            "\u001b[0;31mFileNotFoundError\u001b[0m: [Errno 2] No such file or directory: 'data/train.tagged'"
          ]
        }
      ]
    },
    {
      "cell_type": "code",
      "source": [
        "representation = np.asarray(representation)\n",
        "print(representation.shape)\n",
        "print(\"hi\")"
      ],
      "metadata": {
        "id": "yG7yK7dzvYay"
      },
      "execution_count": null,
      "outputs": []
    }
  ]
}